{
 "cells": [
  {
   "cell_type": "code",
   "execution_count": null,
   "metadata": {},
   "outputs": [],
   "source": [
    "#Imports\n",
    "from keras import layers, models, optimizers\n",
    "from keras.layers import Dropout\n",
    "from keras_preprocessing.image import ImageDataGenerator\n",
    "from keras.applications import VGG16\n",
    "import glob\n",
    "import os\n",
    "import shutil\n",
    "import random as rnd\n",
    "import matplotlib.pyplot as plt\n",
    "import PIL\n",
    "import numpy as np"
   ]
  },
  {
   "cell_type": "code",
   "execution_count": null,
   "metadata": {},
   "outputs": [],
   "source": [
    "#Flower type\n",
    "def get_flowertype(string_to_overwrite):\n",
    "    flowers = ['daisy', 'dandelion', 'rose', 'sunflower', 'tulip']\n",
    "    for flower in flowers:\n",
    "        if flower in string_to_overwrite:\n",
    "            return flower"
   ]
  },
  {
   "cell_type": "code",
   "execution_count": null,
   "metadata": {},
   "outputs": [],
   "source": [
    "# Paths\n",
    "org_dir = os.getcwd()+'/data/flowers'\n",
    "path = org_dir+'/*'\n",
    "new_dir = os.getcwd()+'/data/flowers_split'\n",
    "\n",
    "training_dir = os.path.join(new_dir, 'train')\n",
    "validation_dir = os.path.join(new_dir, 'validation')\n",
    "test_dir = os.path.join(new_dir, 'test')"
   ]
  },
  {
   "cell_type": "code",
   "execution_count": null,
   "metadata": {},
   "outputs": [],
   "source": [
    "# Split, OBS only run once\n",
    "images = []\n",
    "for folder in glob.glob(path):\n",
    "    flower_type = get_flowertype(path+folder)\n",
    "    for file in glob.glob(folder+'/*'):\n",
    "        if flower_type is None or os.path.basename(file) is None:\n",
    "            continue\n",
    "        images.append((os.path.basename(file), flower_type))\n",
    "rnd.shuffle(images)\n",
    "size = len(images)\n",
    "\n",
    "training_set = images[:int(size*0.6)]\n",
    "validation_set = images[int(size*0.6):int(size*0.8)]\n",
    "test_set = images[int(size*0.8):]\n",
    "\n",
    "for im, flower_type in training_set:\n",
    "    src = os.path.join(org_dir, flower_type, im)\n",
    "    dst = os.path.join(training_dir, flower_type, im)\n",
    "    os.makedirs(os.path.dirname(dst), exist_ok=True)\n",
    "    shutil.copyfile(src, dst)\n",
    "\n",
    "for im, flower_type in validation_set:\n",
    "    src = os.path.join(org_dir, flower_type, im)\n",
    "    dst = os.path.join(validation_dir, flower_type, im)\n",
    "    os.makedirs(os.path.dirname(dst), exist_ok=True)\n",
    "    shutil.copyfile(src, dst)\n",
    "\n",
    "for im, flower_type in test_set:\n",
    "    src = os.path.join(org_dir, flower_type, im)\n",
    "    dst = os.path.join(test_dir, flower_type, im)\n",
    "    os.makedirs(os.path.dirname(dst), exist_ok=True)\n",
    "    shutil.copyfile(src, dst)\n",
    "    "
   ]
  },
  {
   "cell_type": "code",
   "execution_count": null,
   "metadata": {},
   "outputs": [],
   "source": [
    "# If need size again but don't want to split.\n",
    "size = 0\n",
    "for folder in glob.glob(path):\n",
    "    for file in glob.glob(folder+'/*'):\n",
    "        size += 1\n",
    "print(size)"
   ]
  },
  {
   "cell_type": "code",
   "execution_count": null,
   "metadata": {},
   "outputs": [],
   "source": [
    "# Model 1\n",
    "model = models.Sequential()\n",
    "model.add(layers.Conv2D(32, (3, 3), activation='relu',\n",
    "                        input_shape=(150, 150, 3)))\n",
    "model.add(layers.MaxPooling2D((2, 2)))\n",
    "model.add(layers.Conv2D(64, (3, 3), activation='relu'))\n",
    "model.add(layers.MaxPooling2D((2, 2)))\n",
    "model.add(layers.Conv2D(128, (3, 3), activation='relu'))\n",
    "model.add(layers.MaxPooling2D((2, 2)))\n",
    "model.add(layers.Conv2D(128, (3, 3), activation='relu'))\n",
    "model.add(layers.MaxPooling2D((2, 2)))\n",
    "model.add(layers.Flatten())\n",
    "model.add(Dropout(0.5))\n",
    "model.add(layers.Dense(512, activation='relu'))\n",
    "model.add(layers.Dense(5, activation='softmax'))\n",
    "model.compile(loss='categorical_crossentropy', optimizer=optimizers.rmsprop(lr=1e-4),\n",
    "              metrics=['acc'])\n",
    "model.summary()"
   ]
  },
  {
   "cell_type": "code",
   "execution_count": null,
   "metadata": {},
   "outputs": [],
   "source": [
    "# Load weights\n",
    "model.load_weights('weights1.h5')"
   ]
  },
  {
   "cell_type": "code",
   "execution_count": null,
   "metadata": {},
   "outputs": [],
   "source": [
    "# Parameters\n",
    "b_size = 64\n",
    "epochs = 5\n",
    "steps = int(np.ceil(size / b_size))\n",
    "val_steps = int(np.ceil(size*0.2 / b_size))"
   ]
  },
  {
   "cell_type": "code",
   "execution_count": null,
   "metadata": {},
   "outputs": [],
   "source": [
    "# To use transformed data use this\n",
    "datagen = ImageDataGenerator(\n",
    "            rescale=1./255,\n",
    "            rotation_range=40,\n",
    "            width_shift_range=0.2, height_shift_range=0.2, shear_range=0.2, zoom_range=0.2, horizontal_flip=True,\n",
    "            fill_mode='nearest')"
   ]
  },
  {
   "cell_type": "code",
   "execution_count": null,
   "metadata": {},
   "outputs": [],
   "source": [
    "# If normal data use this\n",
    "datagen = ImageDataGenerator(rescale=1./255)"
   ]
  },
  {
   "cell_type": "code",
   "execution_count": null,
   "metadata": {},
   "outputs": [],
   "source": [
    "test_datagen = ImageDataGenerator(rescale=1./255)"
   ]
  },
  {
   "cell_type": "code",
   "execution_count": null,
   "metadata": {},
   "outputs": [],
   "source": [
    "# Generate generators\n",
    "training_generator = datagen.flow_from_directory(new_dir + '/train', target_size=(150, 150),\n",
    "                                                         batch_size=b_size)\n",
    "\n",
    "validation_generator = test_datagen.flow_from_directory(new_dir + '/validation', target_size=(150, 150),\n",
    "                                                       batch_size=b_size)\n",
    "\n",
    "test_generator = test_datagen.flow_from_directory(new_dir + '/test', target_size=(150, 150), batch_size=b_size)"
   ]
  },
  {
   "cell_type": "code",
   "execution_count": null,
   "metadata": {},
   "outputs": [],
   "source": [
    "# Fit generator\n",
    "history = model.fit_generator(training_generator,\n",
    "                                    steps_per_epoch=steps,\n",
    "                                    epochs=epochs,\n",
    "                                    validation_data=validation_generator,\n",
    "                                    validation_steps=val_steps)"
   ]
  },
  {
   "cell_type": "code",
   "execution_count": null,
   "metadata": {},
   "outputs": [],
   "source": [
    "# Evaluate\n",
    "test_loss, test_acc = model.evaluate_generator(test_generator, steps=len(test_generator))\n",
    "print('Test accurucy: ', test_acc)"
   ]
  },
  {
   "cell_type": "code",
   "execution_count": null,
   "metadata": {},
   "outputs": [],
   "source": [
    "#Save weights\n",
    "model.save('weights1.h5')"
   ]
  },
  {
   "cell_type": "code",
   "execution_count": null,
   "metadata": {},
   "outputs": [],
   "source": [
    "# Plot\n",
    "acc = history.history['acc']\n",
    "val_acc = history.history['val_acc']\n",
    "loss = history.history['loss']\n",
    "val_loss = history.history['val_loss']\n",
    "epochs = range(1, len(acc) + 1)\n",
    "plt.plot(epochs, acc, 'bo', label='Training acc')\n",
    "plt.plot(epochs, val_acc, 'b', label='Validation acc')\n",
    "plt.title('Training and validation accuracy')\n",
    "plt.legend()\n",
    "plt.figure()\n",
    "plt.plot(epochs, loss, 'bo', label='Training loss')\n",
    "plt.plot(epochs, val_loss, 'b', label='Validation loss')\n",
    "plt.title('Training and validation loss')\n",
    "plt.legend()\n",
    "plt.show()"
   ]
  },
  {
   "cell_type": "code",
   "execution_count": null,
   "metadata": {},
   "outputs": [],
   "source": [
    "# Using pretrained network\n",
    "#Part 1"
   ]
  },
  {
   "cell_type": "code",
   "execution_count": null,
   "metadata": {},
   "outputs": [],
   "source": [
    "# Model 2\n",
    "conv_base = VGG16(weights='imagenet',\n",
    "                          include_top=False,\n",
    "                          input_shape=(150, 150, 3))\n",
    "model_2 = models.Sequential()\n",
    "model_2.add(layers.Dense(256, activation='relu', input_dim=4 * 4 * 512))\n",
    "model_2.add(layers.Dropout(0.5))\n",
    "model_2.add(layers.Dense(5, activation='softmax'))\n",
    "model_2.compile(loss='categorical_crossentropy', optimizer=optimizers.rmsprop(lr=1e-4), metrics=['acc'])"
   ]
  },
  {
   "cell_type": "code",
   "execution_count": null,
   "metadata": {},
   "outputs": [],
   "source": [
    "def extract_features(directory, sample_count):\n",
    "    features = np.zeros(shape=(sample_count, 4, 4, 512))\n",
    "    labels = np.zeros(shape=(sample_count, 5))\n",
    "\n",
    "    generator = datagen.flow_from_directory(directory, target_size=(150, 150), batch_size=b_size)\n",
    "    i = 0\n",
    "    for inputs_batch, labels_batch in generator:\n",
    "        features_batch = conv_base.predict(inputs_batch)\n",
    "        features[i * b_size: (i + 1) * b_size] = features_batch\n",
    "        labels[i * b_size: (i + 1) * b_size] = labels_batch\n",
    "        i += 1\n",
    "        if i * b_size >= sample_count:\n",
    "            break\n",
    "        return features, labels"
   ]
  },
  {
   "cell_type": "code",
   "execution_count": null,
   "metadata": {},
   "outputs": [],
   "source": [
    "#Extract and reshape\n",
    "train_features, train_labels = extract_features(training_dir, 2000)\n",
    "validation_features, validation_labels = extract_features(validation_dir, 1000)\n",
    "test_features, test_labels = extract_features(test_dir, 1000)\n",
    "\n",
    "train_features = np.reshape(train_features, (2000, 4 * 4 * 512))\n",
    "validation_features = np.reshape(validation_features, (1000, 4 * 4 * 512))\n",
    "test_features = np.reshape(test_features, (1000, 4 * 4 * 512))"
   ]
  },
  {
   "cell_type": "code",
   "execution_count": null,
   "metadata": {},
   "outputs": [],
   "source": [
    "# Fit\n",
    "history = model_2.fit(train_features, train_labels, epochs=epochs,\n",
    "                    batch_size=b_size,\n",
    "                    validation_data=(validation_features, validation_labels))"
   ]
  },
  {
   "cell_type": "code",
   "execution_count": null,
   "metadata": {},
   "outputs": [],
   "source": [
    "# Evaluate\n",
    "test_loss, test_acc = model_2.evaluate(test_features, test_labels)\n",
    "print(test_acc)"
   ]
  },
  {
   "cell_type": "code",
   "execution_count": null,
   "metadata": {},
   "outputs": [],
   "source": [
    "# Pretrained networks\n",
    "# Part 2\n",
    "# Model 3\n",
    "model_3 = models.Sequential()\n",
    "model_3.add(conv_base)\n",
    "model_3.add(layers.Flatten())\n",
    "model_3.add(layers.Dense(256, activation='relu'))\n",
    "model_3.add(layers.Dense(5, activation='softmax'))\n",
    "\n",
    "conv_base.trainable = False\n",
    "model_3.compile(loss='categorical_crossentropy', optimizer=optimizers.rmsprop(lr=1e-4), metrics=['acc'])"
   ]
  },
  {
   "cell_type": "code",
   "execution_count": null,
   "metadata": {},
   "outputs": [],
   "source": [
    "# Fit\n",
    "history = model_3.fit_generator(training_generator,\n",
    "                                      steps_per_epoch=steps,\n",
    "                                      epochs=epochs,\n",
    "                                      validation_data=validation_generator,\n",
    "                                      validation_steps=val_steps)"
   ]
  },
  {
   "cell_type": "code",
   "execution_count": null,
   "metadata": {},
   "outputs": [],
   "source": [
    "# Eval\n",
    "test_loss, test_acc = model_3.evaluate_generator(test_generator)\n",
    "print('Test accurucy: ', test_acc)"
   ]
  },
  {
   "cell_type": "code",
   "execution_count": null,
   "metadata": {},
   "outputs": [],
   "source": [
    "# Plot\n",
    "acc = history.history['acc']\n",
    "val_acc = history.history['val_acc']\n",
    "loss = history.history['loss']\n",
    "val_loss = history.history['val_loss']\n",
    "epochs = range(1, len(acc) + 1)\n",
    "plt.plot(epochs, acc, 'bo', label='Training acc')\n",
    "plt.plot(epochs, val_acc, 'b', label='Validation acc')\n",
    "plt.title('Training and validation accuracy')\n",
    "plt.legend()\n",
    "plt.figure()\n",
    "plt.plot(epochs, loss, 'bo', label='Training loss')\n",
    "plt.plot(epochs, val_loss, 'b', label='Validation loss')\n",
    "plt.title('Training and validation loss')\n",
    "plt.legend()\n",
    "plt.show()"
   ]
  }
 ],
 "metadata": {
  "kernelspec": {
   "display_name": "Python 3",
   "language": "python",
   "name": "python3"
  },
  "language_info": {
   "codemirror_mode": {
    "name": "ipython",
    "version": 3
   },
   "file_extension": ".py",
   "mimetype": "text/x-python",
   "name": "python",
   "nbconvert_exporter": "python",
   "pygments_lexer": "ipython3",
   "version": "3.7.5"
  }
 },
 "nbformat": 4,
 "nbformat_minor": 2
}
